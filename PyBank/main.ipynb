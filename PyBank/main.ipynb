{
 "cells": [
  {
   "cell_type": "raw",
   "id": "7ed5f451-e1e2-43da-bcd3-6c6b716c1645",
   "metadata": {},
   "source": [
    "The total number of months included in the dataset.\n",
    "\n",
    "The net total amount of Profit/Losses over the entire period.\n",
    "\n",
    "The average of the changes in Profit/Losses over the entire period.\n",
    "\n",
    "The greatest increase in profits (date and amount) over the entire period.\n",
    "\n",
    "The greatest decrease in losses (date and amount) over the entire period.\n"
   ]
  },
  {
   "cell_type": "code",
   "execution_count": 81,
   "id": "ef8bcf96-1e3f-42a1-80a3-eab965237c20",
   "metadata": {},
   "outputs": [],
   "source": [
    "#Gathering our tools\n",
    "from pathlib import Path\n",
    "import csv"
   ]
  },
  {
   "cell_type": "code",
   "execution_count": 82,
   "id": "aa3e509f-2eff-48ed-a526-860a2728eb16",
   "metadata": {},
   "outputs": [],
   "source": [
    "#Creating our input and output paths\n",
    "csvpath = Path(\"../PyBank/budget_data.csv\")\n",
    "Promotion_file  = Path(\"../PyBank/budget_analysis.txt\")"
   ]
  },
  {
   "cell_type": "code",
   "execution_count": 83,
   "id": "77ea67f3-fd39-4539-a91e-a4dcf79792d7",
   "metadata": {},
   "outputs": [],
   "source": [
    "#Setting our parameters\n",
    "sum_months = 0\n",
    "month_of_change = []\n",
    "net_change_list = []\n",
    "greatest_profit = [\"\", 0]\n",
    "greatest_loss = [\"\", 9999999999999999999]\n",
    "total_net= 0"
   ]
  },
  {
   "cell_type": "code",
   "execution_count": 85,
   "id": "64b8673c-a9ee-43b2-98ec-be54f46d5b6f",
   "metadata": {},
   "outputs": [
    {
     "name": "stdout",
     "output_type": "stream",
     "text": [
      " Total Months 172\n",
      " Total Profit/Loss 76765156\n",
      " Average of Changes in Profit/Loss -2315.12\n",
      " Greatest Increase In Profits Feb-2012 ($1926159)\n",
      " Greatest Decrease in Losses Sep-2013 ($-2196167)\n",
      "\n"
     ]
    }
   ],
   "source": [
    "#Reading the csv file provided\n",
    "with open (csvpath, 'r') as csvfile:\n",
    "    csvreader = csv.reader(csvfile, delimiter=',')\n",
    "\n",
    "#Setting our header to be read   \n",
    "    header = next(csvreader)\n",
    "\n",
    "#Extracting first row so we do not append net_change_list    \n",
    "    first_row  = next(csvreader)\n",
    "    sum_months += 1\n",
    "    last_net = int(first_row[1])\n",
    "    total_net += int(first_row[1])\n",
    "\n",
    "#Creating our data loop to collect answers    \n",
    "    for row in csvreader:\n",
    "        \n",
    "# Calculating total number of months in dataset        \n",
    "        sum_months += 1\n",
    "\n",
    "#Calculate the net total amount over entire  period\n",
    "        total_net += int(row[1])\n",
    "\n",
    "#Calculating the net change over entire period\n",
    "        net_change = int(row[1]) - last_net\n",
    "        last_net = int(row[1])\n",
    "        net_change_list = net_change_list + [net_change]\n",
    "        month_of_change = month_of_change + [row[0]]     \n",
    "\n",
    "#Calculate the average of changes over entire period\n",
    "        mean = round(sum(net_change_list)/len(net_change_list),2)\n",
    "\n",
    "#Greatest Increase in profits :)\n",
    "        if (net_change > greatest_profit[1]):\n",
    "               greatest_profit[1] = net_change\n",
    "               greatest_profit[0] = row[0]\n",
    "\n",
    "#Greatest Decrease in losses :( \n",
    "        if (net_change < greatest_loss[1]):\n",
    "               greatest_loss[0] = row[0]\n",
    "               greatest_loss[1] = net_change\n",
    "\n",
    "#Print our results\n",
    "Results = (\n",
    "    f\" Total Months {sum_months}\\n\"\n",
    "    f\" Total Profit/Loss {total_net}\\n\"\n",
    "    f\" Average of Changes in Profit/Loss {mean}\\n\"\n",
    "    f\" Greatest Increase In Profits {greatest_profit[0]} (${greatest_profit[1]})\\n\"\n",
    "    f\" Greatest Decrease in Losses {greatest_loss[0]} (${greatest_loss[1]})\\n\"\n",
    ")\n",
    "print(Results)\n",
    "\n",
    "#Write to the txt. file\n",
    "with open(Promotion_file, 'w') as txt_file:\n",
    "    txt_file.write(Results)"
   ]
  },
  {
   "cell_type": "code",
   "execution_count": null,
   "id": "5b5ef987-a403-4fc5-a9ac-babb2271d349",
   "metadata": {},
   "outputs": [],
   "source": []
  }
 ],
 "metadata": {
  "kernelspec": {
   "display_name": "Python 3 (ipykernel)",
   "language": "python",
   "name": "python3"
  },
  "language_info": {
   "codemirror_mode": {
    "name": "ipython",
    "version": 3
   },
   "file_extension": ".py",
   "mimetype": "text/x-python",
   "name": "python",
   "nbconvert_exporter": "python",
   "pygments_lexer": "ipython3",
   "version": "3.8.8"
  }
 },
 "nbformat": 4,
 "nbformat_minor": 5
}
